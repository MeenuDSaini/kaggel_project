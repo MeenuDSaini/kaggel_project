{
 "cells": [
  {
   "cell_type": "code",
   "execution_count": 1,
   "id": "e36cd487",
   "metadata": {},
   "outputs": [],
   "source": [
    "# Import your libraries:\n",
    "%matplotlib inline\n",
    "\n",
    "import numpy as np\n",
    "import pandas as pd\n",
    "import matplotlib.pyplot as plt\n",
    "import seaborn as sns\n",
    "import plotly.express as px\n",
    "import plotly.graph_objects as go\n",
    "from plotly.subplots import make_subplots"
   ]
  },
  {
   "cell_type": "code",
   "execution_count": 2,
   "id": "959842af",
   "metadata": {},
   "outputs": [
    {
     "data": {
      "text/html": [
       "<div>\n",
       "<style scoped>\n",
       "    .dataframe tbody tr th:only-of-type {\n",
       "        vertical-align: middle;\n",
       "    }\n",
       "\n",
       "    .dataframe tbody tr th {\n",
       "        vertical-align: top;\n",
       "    }\n",
       "\n",
       "    .dataframe thead th {\n",
       "        text-align: right;\n",
       "    }\n",
       "</style>\n",
       "<table border=\"1\" class=\"dataframe\">\n",
       "  <thead>\n",
       "    <tr style=\"text-align: right;\">\n",
       "      <th></th>\n",
       "      <th>Unnamed: 0</th>\n",
       "      <th>store_ID</th>\n",
       "      <th>day_of_week</th>\n",
       "      <th>date</th>\n",
       "      <th>nb_customers_on_day</th>\n",
       "      <th>open</th>\n",
       "      <th>promotion</th>\n",
       "      <th>state_holiday</th>\n",
       "      <th>school_holiday</th>\n",
       "      <th>sales</th>\n",
       "    </tr>\n",
       "  </thead>\n",
       "  <tbody>\n",
       "    <tr>\n",
       "      <th>0</th>\n",
       "      <td>425390</td>\n",
       "      <td>366</td>\n",
       "      <td>4</td>\n",
       "      <td>2013-04-18</td>\n",
       "      <td>517</td>\n",
       "      <td>1</td>\n",
       "      <td>0</td>\n",
       "      <td>0</td>\n",
       "      <td>0</td>\n",
       "      <td>4422</td>\n",
       "    </tr>\n",
       "    <tr>\n",
       "      <th>1</th>\n",
       "      <td>291687</td>\n",
       "      <td>394</td>\n",
       "      <td>6</td>\n",
       "      <td>2015-04-11</td>\n",
       "      <td>694</td>\n",
       "      <td>1</td>\n",
       "      <td>0</td>\n",
       "      <td>0</td>\n",
       "      <td>0</td>\n",
       "      <td>8297</td>\n",
       "    </tr>\n",
       "    <tr>\n",
       "      <th>2</th>\n",
       "      <td>411278</td>\n",
       "      <td>807</td>\n",
       "      <td>4</td>\n",
       "      <td>2013-08-29</td>\n",
       "      <td>970</td>\n",
       "      <td>1</td>\n",
       "      <td>1</td>\n",
       "      <td>0</td>\n",
       "      <td>0</td>\n",
       "      <td>9729</td>\n",
       "    </tr>\n",
       "    <tr>\n",
       "      <th>3</th>\n",
       "      <td>664714</td>\n",
       "      <td>802</td>\n",
       "      <td>2</td>\n",
       "      <td>2013-05-28</td>\n",
       "      <td>473</td>\n",
       "      <td>1</td>\n",
       "      <td>1</td>\n",
       "      <td>0</td>\n",
       "      <td>0</td>\n",
       "      <td>6513</td>\n",
       "    </tr>\n",
       "    <tr>\n",
       "      <th>4</th>\n",
       "      <td>540835</td>\n",
       "      <td>726</td>\n",
       "      <td>4</td>\n",
       "      <td>2013-10-10</td>\n",
       "      <td>1068</td>\n",
       "      <td>1</td>\n",
       "      <td>1</td>\n",
       "      <td>0</td>\n",
       "      <td>0</td>\n",
       "      <td>10882</td>\n",
       "    </tr>\n",
       "  </tbody>\n",
       "</table>\n",
       "</div>"
      ],
      "text/plain": [
       "   Unnamed: 0  store_ID  day_of_week        date  nb_customers_on_day  open  \\\n",
       "0      425390       366            4  2013-04-18                  517     1   \n",
       "1      291687       394            6  2015-04-11                  694     1   \n",
       "2      411278       807            4  2013-08-29                  970     1   \n",
       "3      664714       802            2  2013-05-28                  473     1   \n",
       "4      540835       726            4  2013-10-10                 1068     1   \n",
       "\n",
       "   promotion state_holiday  school_holiday  sales  \n",
       "0          0             0               0   4422  \n",
       "1          0             0               0   8297  \n",
       "2          1             0               0   9729  \n",
       "3          1             0               0   6513  \n",
       "4          1             0               0  10882  "
      ]
     },
     "execution_count": 2,
     "metadata": {},
     "output_type": "execute_result"
    }
   ],
   "source": [
    "#load the dataset\n",
    "sales_df = pd.read_csv('sales.csv')\n",
    "sales_df.head()"
   ]
  },
  {
   "cell_type": "code",
   "execution_count": 3,
   "id": "2b34bb80",
   "metadata": {},
   "outputs": [
    {
     "data": {
      "text/plain": [
       "Unnamed: 0              int64\n",
       "store_ID                int64\n",
       "day_of_week             int64\n",
       "date                   object\n",
       "nb_customers_on_day     int64\n",
       "open                    int64\n",
       "promotion               int64\n",
       "state_holiday          object\n",
       "school_holiday          int64\n",
       "sales                   int64\n",
       "dtype: object"
      ]
     },
     "execution_count": 3,
     "metadata": {},
     "output_type": "execute_result"
    }
   ],
   "source": [
    "#check the data types\n",
    "sales_df.dtypes"
   ]
  },
  {
   "cell_type": "code",
   "execution_count": 4,
   "id": "489171a2",
   "metadata": {},
   "outputs": [
    {
     "data": {
      "text/plain": [
       "array(['0', 'a', 'c', 'b'], dtype=object)"
      ]
     },
     "execution_count": 4,
     "metadata": {},
     "output_type": "execute_result"
    }
   ],
   "source": [
    "sales_df.state_holiday.unique()"
   ]
  },
  {
   "cell_type": "code",
   "execution_count": 5,
   "id": "e44a4dd6",
   "metadata": {},
   "outputs": [],
   "source": [
    "#convert date column to datetime\n",
    "sales_df['date']= pd.to_datetime(sales_df['date'])"
   ]
  },
  {
   "cell_type": "code",
   "execution_count": 6,
   "id": "83c2de98",
   "metadata": {},
   "outputs": [],
   "source": [
    "# convert state_holiday column to numeric\n",
    "state_holiday_mapping = {'0':0,'a':1, 'c':2, 'b':3}\n",
    "sales_df['state_holiday']= sales_df['state_holiday'].map(state_holiday_mapping)"
   ]
  },
  {
   "cell_type": "code",
   "execution_count": 7,
   "id": "4168580d",
   "metadata": {},
   "outputs": [
    {
     "data": {
      "text/plain": [
       "Unnamed: 0                      int64\n",
       "store_ID                        int64\n",
       "day_of_week                     int64\n",
       "date                   datetime64[ns]\n",
       "nb_customers_on_day             int64\n",
       "open                            int64\n",
       "promotion                       int64\n",
       "state_holiday                   int64\n",
       "school_holiday                  int64\n",
       "sales                           int64\n",
       "dtype: object"
      ]
     },
     "execution_count": 7,
     "metadata": {},
     "output_type": "execute_result"
    }
   ],
   "source": [
    "#check dtype again\n",
    "sales_df.dtypes"
   ]
  },
  {
   "cell_type": "code",
   "execution_count": 8,
   "id": "224a6a06",
   "metadata": {},
   "outputs": [
    {
     "data": {
      "text/plain": [
       "Unnamed: 0             0\n",
       "store_ID               0\n",
       "day_of_week            0\n",
       "date                   0\n",
       "nb_customers_on_day    0\n",
       "open                   0\n",
       "promotion              0\n",
       "state_holiday          0\n",
       "school_holiday         0\n",
       "sales                  0\n",
       "dtype: int64"
      ]
     },
     "execution_count": 8,
     "metadata": {},
     "output_type": "execute_result"
    }
   ],
   "source": [
    "# check null values\n",
    "sales_df.isnull().sum()"
   ]
  },
  {
   "cell_type": "code",
   "execution_count": 9,
   "id": "a72e6439",
   "metadata": {},
   "outputs": [
    {
     "data": {
      "text/plain": [
       "(640840, 10)"
      ]
     },
     "execution_count": 9,
     "metadata": {},
     "output_type": "execute_result"
    }
   ],
   "source": [
    "sales_df.shape"
   ]
  },
  {
   "cell_type": "code",
   "execution_count": 10,
   "id": "fb4535ad",
   "metadata": {},
   "outputs": [],
   "source": [
    "#rename Unnamed: 0 columns as index\n",
    "sales_df.rename(columns={'Unnamed: 0': 'index'},inplace=True)"
   ]
  },
  {
   "cell_type": "code",
   "execution_count": 11,
   "id": "ffd6eba8",
   "metadata": {},
   "outputs": [],
   "source": [
    "sales_df.set_index('index', inplace=True)"
   ]
  },
  {
   "cell_type": "code",
   "execution_count": 12,
   "id": "814a4788",
   "metadata": {},
   "outputs": [
    {
     "data": {
      "text/html": [
       "<div>\n",
       "<style scoped>\n",
       "    .dataframe tbody tr th:only-of-type {\n",
       "        vertical-align: middle;\n",
       "    }\n",
       "\n",
       "    .dataframe tbody tr th {\n",
       "        vertical-align: top;\n",
       "    }\n",
       "\n",
       "    .dataframe thead th {\n",
       "        text-align: right;\n",
       "    }\n",
       "</style>\n",
       "<table border=\"1\" class=\"dataframe\">\n",
       "  <thead>\n",
       "    <tr style=\"text-align: right;\">\n",
       "      <th></th>\n",
       "      <th>store_ID</th>\n",
       "      <th>day_of_week</th>\n",
       "      <th>date</th>\n",
       "      <th>nb_customers_on_day</th>\n",
       "      <th>open</th>\n",
       "      <th>promotion</th>\n",
       "      <th>state_holiday</th>\n",
       "      <th>school_holiday</th>\n",
       "      <th>sales</th>\n",
       "    </tr>\n",
       "    <tr>\n",
       "      <th>index</th>\n",
       "      <th></th>\n",
       "      <th></th>\n",
       "      <th></th>\n",
       "      <th></th>\n",
       "      <th></th>\n",
       "      <th></th>\n",
       "      <th></th>\n",
       "      <th></th>\n",
       "      <th></th>\n",
       "    </tr>\n",
       "  </thead>\n",
       "  <tbody>\n",
       "    <tr>\n",
       "      <th>425390</th>\n",
       "      <td>366</td>\n",
       "      <td>4</td>\n",
       "      <td>2013-04-18</td>\n",
       "      <td>517</td>\n",
       "      <td>1</td>\n",
       "      <td>0</td>\n",
       "      <td>0</td>\n",
       "      <td>0</td>\n",
       "      <td>4422</td>\n",
       "    </tr>\n",
       "    <tr>\n",
       "      <th>291687</th>\n",
       "      <td>394</td>\n",
       "      <td>6</td>\n",
       "      <td>2015-04-11</td>\n",
       "      <td>694</td>\n",
       "      <td>1</td>\n",
       "      <td>0</td>\n",
       "      <td>0</td>\n",
       "      <td>0</td>\n",
       "      <td>8297</td>\n",
       "    </tr>\n",
       "    <tr>\n",
       "      <th>411278</th>\n",
       "      <td>807</td>\n",
       "      <td>4</td>\n",
       "      <td>2013-08-29</td>\n",
       "      <td>970</td>\n",
       "      <td>1</td>\n",
       "      <td>1</td>\n",
       "      <td>0</td>\n",
       "      <td>0</td>\n",
       "      <td>9729</td>\n",
       "    </tr>\n",
       "    <tr>\n",
       "      <th>664714</th>\n",
       "      <td>802</td>\n",
       "      <td>2</td>\n",
       "      <td>2013-05-28</td>\n",
       "      <td>473</td>\n",
       "      <td>1</td>\n",
       "      <td>1</td>\n",
       "      <td>0</td>\n",
       "      <td>0</td>\n",
       "      <td>6513</td>\n",
       "    </tr>\n",
       "    <tr>\n",
       "      <th>540835</th>\n",
       "      <td>726</td>\n",
       "      <td>4</td>\n",
       "      <td>2013-10-10</td>\n",
       "      <td>1068</td>\n",
       "      <td>1</td>\n",
       "      <td>1</td>\n",
       "      <td>0</td>\n",
       "      <td>0</td>\n",
       "      <td>10882</td>\n",
       "    </tr>\n",
       "  </tbody>\n",
       "</table>\n",
       "</div>"
      ],
      "text/plain": [
       "        store_ID  day_of_week       date  nb_customers_on_day  open  \\\n",
       "index                                                                 \n",
       "425390       366            4 2013-04-18                  517     1   \n",
       "291687       394            6 2015-04-11                  694     1   \n",
       "411278       807            4 2013-08-29                  970     1   \n",
       "664714       802            2 2013-05-28                  473     1   \n",
       "540835       726            4 2013-10-10                 1068     1   \n",
       "\n",
       "        promotion  state_holiday  school_holiday  sales  \n",
       "index                                                    \n",
       "425390          0              0               0   4422  \n",
       "291687          0              0               0   8297  \n",
       "411278          1              0               0   9729  \n",
       "664714          1              0               0   6513  \n",
       "540835          1              0               0  10882  "
      ]
     },
     "execution_count": 12,
     "metadata": {},
     "output_type": "execute_result"
    }
   ],
   "source": [
    "sales_df.head()"
   ]
  },
  {
   "cell_type": "code",
   "execution_count": 13,
   "id": "ca458895",
   "metadata": {},
   "outputs": [
    {
     "data": {
      "text/plain": [
       "store_ID               0\n",
       "day_of_week            0\n",
       "date                   0\n",
       "nb_customers_on_day    0\n",
       "open                   0\n",
       "promotion              0\n",
       "state_holiday          0\n",
       "school_holiday         0\n",
       "sales                  0\n",
       "dtype: int64"
      ]
     },
     "execution_count": 13,
     "metadata": {},
     "output_type": "execute_result"
    }
   ],
   "source": [
    "sales_df.isnull().sum()"
   ]
  },
  {
   "cell_type": "code",
   "execution_count": 14,
   "id": "9c461802",
   "metadata": {},
   "outputs": [],
   "source": [
    "#create correaltion matrix\n",
    "sales_df_corr = sales_df.corr(numeric_only=True)"
   ]
  },
  {
   "cell_type": "code",
   "execution_count": 15,
   "id": "2c41b93a",
   "metadata": {},
   "outputs": [
    {
     "data": {
      "text/plain": [
       "<Axes: >"
      ]
     },
     "execution_count": 15,
     "metadata": {},
     "output_type": "execute_result"
    },
    {
     "data": {
      "image/png": "[encoded data removed]",
      "text/plain": [
       "<Figure size 2000x600 with 2 Axes>"
      ]
     },
     "metadata": {},
     "output_type": "display_data"
    }
   ],
   "source": [
    "plt.figure(figsize=(20, 6))\n",
    "sns.heatmap(sales_df_corr, annot=True)"
   ]
  },
  {
   "cell_type": "code",
   "execution_count": 16,
   "id": "f6f58a26",
   "metadata": {},
   "outputs": [],
   "source": [
    "# there no collinearity between columns so I will drop only date column that could create problem in linear Regression model."
   ]
  },
  {
   "cell_type": "code",
   "execution_count": 17,
   "id": "4fe8ec98",
   "metadata": {},
   "outputs": [
    {
     "data": {
      "text/plain": [
       "array([4, 6, 2, 7, 3, 5, 1], dtype=int64)"
      ]
     },
     "execution_count": 17,
     "metadata": {},
     "output_type": "execute_result"
    }
   ],
   "source": [
    "sales_df['day_of_week'].unique()"
   ]
  },
  {
   "cell_type": "code",
   "execution_count": 18,
   "id": "16e5a617",
   "metadata": {},
   "outputs": [],
   "source": [
    "sales_df.drop('date', axis=1, inplace=True)"
   ]
  },
  {
   "cell_type": "code",
   "execution_count": 19,
   "id": "17df001b",
   "metadata": {},
   "outputs": [],
   "source": [
    "from sklearn.model_selection import train_test_split\n",
    "from sklearn.linear_model import LinearRegression\n",
    "from sklearn.metrics import r2_score\n",
    "\n",
    "# assuming sales as target\n",
    "X = sales_df.drop('sales', axis=1)  \n",
    "y = sales_df['sales'] "
   ]
  },
  {
   "cell_type": "code",
   "execution_count": 20,
   "id": "91385b5b",
   "metadata": {},
   "outputs": [],
   "source": [
    "# Split the data into training and testing sets\n",
    "X_train, X_test, y_train, y_test = train_test_split(X, y, test_size=0.2, random_state=42)\n"
   ]
  },
  {
   "cell_type": "code",
   "execution_count": 21,
   "id": "8b4d17bc",
   "metadata": {},
   "outputs": [],
   "source": [
    "# Initialize a linear regression model\n",
    "model = LinearRegression()"
   ]
  },
  {
   "cell_type": "code",
   "execution_count": 22,
   "id": "e6668b17",
   "metadata": {},
   "outputs": [
    {
     "data": {
      "text/html": [
       "<style>#sk-container-id-1 {color: black;background-color: white;}#sk-container-id-1 pre{padding: 0;}#sk-container-id-1 div.sk-toggleable {background-color: white;}#sk-container-id-1 label.sk-toggleable__label {cursor: pointer;display: block;width: 100%;margin-bottom: 0;padding: 0.3em;box-sizing: border-box;text-align: center;}#sk-container-id-1 label.sk-toggleable__label-arrow:before {content: \"▸\";float: left;margin-right: 0.25em;color: #696969;}#sk-container-id-1 label.sk-toggleable__label-arrow:hover:before {color: black;}#sk-container-id-1 div.sk-estimator:hover label.sk-toggleable__label-arrow:before {color: black;}#sk-container-id-1 div.sk-toggleable__content {max-height: 0;max-width: 0;overflow: hidden;text-align: left;background-color: #f0f8ff;}#sk-container-id-1 div.sk-toggleable__content pre {margin: 0.2em;color: black;border-radius: 0.25em;background-color: #f0f8ff;}#sk-container-id-1 input.sk-toggleable__control:checked~div.sk-toggleable__content {max-height: 200px;max-width: 100%;overflow: auto;}#sk-container-id-1 input.sk-toggleable__control:checked~label.sk-toggleable__label-arrow:before {content: \"▾\";}#sk-container-id-1 div.sk-estimator input.sk-toggleable__control:checked~label.sk-toggleable__label {background-color: #d4ebff;}#sk-container-id-1 div.sk-label input.sk-toggleable__control:checked~label.sk-toggleable__label {background-color: #d4ebff;}#sk-container-id-1 input.sk-hidden--visually {border: 0;clip: rect(1px 1px 1px 1px);clip: rect(1px, 1px, 1px, 1px);height: 1px;margin: -1px;overflow: hidden;padding: 0;position: absolute;width: 1px;}#sk-container-id-1 div.sk-estimator {font-family: monospace;background-color: #f0f8ff;border: 1px dotted black;border-radius: 0.25em;box-sizing: border-box;margin-bottom: 0.5em;}#sk-container-id-1 div.sk-estimator:hover {background-color: #d4ebff;}#sk-container-id-1 div.sk-parallel-item::after {content: \"\";width: 100%;border-bottom: 1px solid gray;flex-grow: 1;}#sk-container-id-1 div.sk-label:hover label.sk-toggleable__label {background-color: #d4ebff;}#sk-container-id-1 div.sk-serial::before {content: \"\";position: absolute;border-left: 1px solid gray;box-sizing: border-box;top: 0;bottom: 0;left: 50%;z-index: 0;}#sk-container-id-1 div.sk-serial {display: flex;flex-direction: column;align-items: center;background-color: white;padding-right: 0.2em;padding-left: 0.2em;position: relative;}#sk-container-id-1 div.sk-item {position: relative;z-index: 1;}#sk-container-id-1 div.sk-parallel {display: flex;align-items: stretch;justify-content: center;background-color: white;position: relative;}#sk-container-id-1 div.sk-item::before, #sk-container-id-1 div.sk-parallel-item::before {content: \"\";position: absolute;border-left: 1px solid gray;box-sizing: border-box;top: 0;bottom: 0;left: 50%;z-index: -1;}#sk-container-id-1 div.sk-parallel-item {display: flex;flex-direction: column;z-index: 1;position: relative;background-color: white;}#sk-container-id-1 div.sk-parallel-item:first-child::after {align-self: flex-end;width: 50%;}#sk-container-id-1 div.sk-parallel-item:last-child::after {align-self: flex-start;width: 50%;}#sk-container-id-1 div.sk-parallel-item:only-child::after {width: 0;}#sk-container-id-1 div.sk-dashed-wrapped {border: 1px dashed gray;margin: 0 0.4em 0.5em 0.4em;box-sizing: border-box;padding-bottom: 0.4em;background-color: white;}#sk-container-id-1 div.sk-label label {font-family: monospace;font-weight: bold;display: inline-block;line-height: 1.2em;}#sk-container-id-1 div.sk-label-container {text-align: center;}#sk-container-id-1 div.sk-container {/* jupyter's `normalize.less` sets `[hidden] { display: none; }` but bootstrap.min.css set `[hidden] { display: none !important; }` so we also need the `!important` here to be able to override the default hidden behavior on the sphinx rendered scikit-learn.org. See: https://github.com/scikit-learn/scikit-learn/issues/21755 */display: inline-block !important;position: relative;}#sk-container-id-1 div.sk-text-repr-fallback {display: none;}</style><div id=\"sk-container-id-1\" class=\"sk-top-container\"><div class=\"sk-text-repr-fallback\"><pre>LinearRegression()</pre><b>In a Jupyter environment, please rerun this cell to show the HTML representation or trust the notebook. <br />On GitHub, the HTML representation is unable to render, please try loading this page with nbviewer.org.</b></div><div class=\"sk-container\" hidden><div class=\"sk-item\"><div class=\"sk-estimator sk-toggleable\"><input class=\"sk-toggleable__control sk-hidden--visually\" id=\"sk-estimator-id-1\" type=\"checkbox\" checked><label for=\"sk-estimator-id-1\" class=\"sk-toggleable__label sk-toggleable__label-arrow\">LinearRegression</label><div class=\"sk-toggleable__content\"><pre>LinearRegression()</pre></div></div></div></div></div>"
      ],
      "text/plain": [
       "LinearRegression()"
      ]
     },
     "execution_count": 22,
     "metadata": {},
     "output_type": "execute_result"
    }
   ],
   "source": [
    "# Fit the model to the training data\n",
    "model.fit(X_train, y_train)\n"
   ]
  },
  {
   "cell_type": "code",
   "execution_count": 23,
   "id": "7e2c9a63",
   "metadata": {},
   "outputs": [],
   "source": [
    "# Make predictions on the testing set\n",
    "y_pred = model.predict(X_test)"
   ]
  },
  {
   "cell_type": "code",
   "execution_count": 24,
   "id": "2c3c3ea6",
   "metadata": {},
   "outputs": [
    {
     "name": "stdout",
     "output_type": "stream",
     "text": [
      "0.8508312426194539\n"
     ]
    }
   ],
   "source": [
    "# Evaluate the model's performance\n",
    "r2_score_value = r2_score(y_test, y_pred)\n",
    "print(r2_score_value)"
   ]
  },
  {
   "cell_type": "code",
   "execution_count": 25,
   "id": "58856d82",
   "metadata": {},
   "outputs": [],
   "source": [
    "# conclusion: I think 0.8508 is good score and model is good in predicting the revenue. \n"
   ]
  },
  {
   "cell_type": "code",
   "execution_count": 26,
   "id": "16502c1b",
   "metadata": {},
   "outputs": [],
   "source": [
    "# Split the data into training and testing sets\n",
    "X_train, X_test, y_train, y_test = train_test_split(X, y, test_size=0.2, random_state=42)\n"
   ]
  },
  {
   "cell_type": "code",
   "execution_count": 27,
   "id": "0f9a0062",
   "metadata": {},
   "outputs": [
    {
     "name": "stdout",
     "output_type": "stream",
     "text": [
      "Train score: 0.9649584166075765\n",
      "Test score: 0.9387821807392606\n"
     ]
    }
   ],
   "source": [
    "# Now try voting classifiers to see the performance of model\n",
    "\n",
    "from sklearn.ensemble import VotingRegressor\n",
    "from sklearn.linear_model import LinearRegression\n",
    "from sklearn.neighbors import KNeighborsRegressor\n",
    "from sklearn.tree import DecisionTreeRegressor\n",
    "\n",
    "lin_reg = LinearRegression()\n",
    "knn_reg = KNeighborsRegressor()\n",
    "tree_reg = DecisionTreeRegressor(random_state=1)\n",
    "voting_reg = VotingRegressor(\n",
    "estimators=[('lr', lin_reg), ('dt', tree_reg), ('knn', knn_reg)])\n",
    "voting_reg.fit(X_train, y_train)\n",
    "print('Train score:', voting_reg.score(X_train, y_train))\n",
    "print('Test score:', voting_reg.score(X_test, y_test))"
   ]
  },
  {
   "cell_type": "code",
   "execution_count": 28,
   "id": "f2ab3641",
   "metadata": {},
   "outputs": [
    {
     "name": "stdout",
     "output_type": "stream",
     "text": [
      "Train score: 0.9408543328771066\n",
      "Test score: 0.9063918133455313\n"
     ]
    }
   ],
   "source": [
    "knn_reg = KNeighborsRegressor()\n",
    "knn_reg.fit(X_train, y_train)\n",
    "print('Train score:', knn_reg.score(X_train, y_train))\n",
    "print('Test score:', knn_reg.score(X_test, y_test))"
   ]
  },
  {
   "cell_type": "code",
   "execution_count": 29,
   "id": "ec742089",
   "metadata": {},
   "outputs": [
    {
     "name": "stdout",
     "output_type": "stream",
     "text": [
      "Train score: 0.8535134171315677\n",
      "Test score: 0.8508312426194539\n"
     ]
    }
   ],
   "source": [
    "lin_reg = LinearRegression()\n",
    "lin_reg.fit(X_train, y_train)\n",
    "print('Train score:', lin_reg.score(X_train, y_train))\n",
    "print('Test score:', lin_reg.score(X_test, y_test))"
   ]
  },
  {
   "cell_type": "markdown",
   "id": "f5079d63",
   "metadata": {},
   "source": [
    "conclusion: voting classifier provide successful result. If we see indivdual score of train and test data inlinear regression\n",
    "and KNN though the test and train score are good in both cases but by using voting classifier the score improved for both train and test data."
   ]
  },
  {
   "cell_type": "code",
   "execution_count": 30,
   "id": "fcaff3a8",
   "metadata": {},
   "outputs": [
    {
     "name": "stdout",
     "output_type": "stream",
     "text": [
      "Train score: 0.8171083649864864\n",
      "Test score: 0.8175704334763318\n"
     ]
    }
   ],
   "source": [
    "X_train, X_test, y_train, y_test = train_test_split(X, y, test_size=0.2, random_state=42)\n",
    "\n",
    "from sklearn.ensemble import RandomForestRegressor\n",
    "\n",
    "rf_model = RandomForestRegressor(n_estimators=10, max_depth=3, random_state=1) \n",
    "                                \n",
    "rf_model.fit(X_train, y_train)\n",
    "print('Train score:', rf_model.score(X_train, y_train))\n",
    "print('Test score:', rf_model.score(X_test, y_test))"
   ]
  },
  {
   "cell_type": "markdown",
   "id": "50620b19",
   "metadata": {},
   "source": [
    "Conclusion:The model is looking overfitting. let's increase the max_depth parameter from 3 to 5, to see the improvement in the performance of model."
   ]
  },
  {
   "cell_type": "code",
   "execution_count": 31,
   "id": "4c5035dc",
   "metadata": {},
   "outputs": [
    {
     "name": "stdout",
     "output_type": "stream",
     "text": [
      "Train score: 0.8621996668050781\n",
      "Test score: 0.8597671817254247\n"
     ]
    }
   ],
   "source": [
    "X_train, X_test, y_train, y_test = train_test_split(X, y, test_size=0.2, random_state=42)\n",
    "\n",
    "from sklearn.ensemble import RandomForestRegressor\n",
    "\n",
    "rf_model = RandomForestRegressor(n_estimators=10, max_depth=5, random_state=1) \n",
    "rf_model.fit(X_train, y_train)\n",
    "print('Train score:', rf_model.score(X_train, y_train))\n",
    "print('Test score:', rf_model.score(X_test, y_test))"
   ]
  },
  {
   "cell_type": "markdown",
   "id": "219c5089",
   "metadata": {},
   "source": [
    "Conclusion: Now the result shows the model is now fitting the training data well and therefore the performance of modelis also improved to predict the test data."
   ]
  },
  {
   "cell_type": "code",
   "execution_count": 32,
   "id": "2158b37a",
   "metadata": {},
   "outputs": [
    {
     "name": "stdout",
     "output_type": "stream",
     "text": [
      "dict_keys(['fit_time', 'score_time', 'test_score'])\n"
     ]
    }
   ],
   "source": [
    "# let's try cross validation\n",
    "from sklearn.model_selection import cross_validate\n",
    "\n",
    "# Initialize model and cross validate with 10 folds\n",
    "results = cross_validate(rf_model, X_train, y_train, cv=10)\n",
    "print(results.keys())"
   ]
  },
  {
   "cell_type": "code",
   "execution_count": 33,
   "id": "fdb28ee1",
   "metadata": {},
   "outputs": [
    {
     "data": {
      "text/plain": [
       "array([0.86022471, 0.86299468, 0.86242465, 0.8640755 , 0.86177708,\n",
       "       0.85976864, 0.8592345 , 0.8636952 , 0.86060446, 0.86120916])"
      ]
     },
     "execution_count": 33,
     "metadata": {},
     "output_type": "execute_result"
    }
   ],
   "source": [
    "# Review test scores per validation set\n",
    "results['test_score']"
   ]
  },
  {
   "cell_type": "code",
   "execution_count": 34,
   "id": "fee06937",
   "metadata": {},
   "outputs": [
    {
     "data": {
      "text/plain": [
       "0.8616008585500717"
      ]
     },
     "execution_count": 34,
     "metadata": {},
     "output_type": "execute_result"
    }
   ],
   "source": [
    "# Review overall test score\n",
    "results['test_score'].mean()"
   ]
  },
  {
   "cell_type": "markdown",
   "id": "ca04e9be",
   "metadata": {},
   "source": [
    "Conclusion:The test score of random forest model using cross validation is 0.8616 which is very slightly higher than 0.8597( test score of rf_model). But it shows positive indication that model is consistant in its performance across different set of data.\n",
    "* looking at the scores of all models Voting regressor is the best choice. So I will make predictions on the basis of voting regressor."
   ]
  },
  {
   "cell_type": "code",
   "execution_count": 44,
   "id": "0ee5d106",
   "metadata": {},
   "outputs": [
    {
     "data": {
      "text/html": [
       "<style>#sk-container-id-3 {color: black;background-color: white;}#sk-container-id-3 pre{padding: 0;}#sk-container-id-3 div.sk-toggleable {background-color: white;}#sk-container-id-3 label.sk-toggleable__label {cursor: pointer;display: block;width: 100%;margin-bottom: 0;padding: 0.3em;box-sizing: border-box;text-align: center;}#sk-container-id-3 label.sk-toggleable__label-arrow:before {content: \"▸\";float: left;margin-right: 0.25em;color: #696969;}#sk-container-id-3 label.sk-toggleable__label-arrow:hover:before {color: black;}#sk-container-id-3 div.sk-estimator:hover label.sk-toggleable__label-arrow:before {color: black;}#sk-container-id-3 div.sk-toggleable__content {max-height: 0;max-width: 0;overflow: hidden;text-align: left;background-color: #f0f8ff;}#sk-container-id-3 div.sk-toggleable__content pre {margin: 0.2em;color: black;border-radius: 0.25em;background-color: #f0f8ff;}#sk-container-id-3 input.sk-toggleable__control:checked~div.sk-toggleable__content {max-height: 200px;max-width: 100%;overflow: auto;}#sk-container-id-3 input.sk-toggleable__control:checked~label.sk-toggleable__label-arrow:before {content: \"▾\";}#sk-container-id-3 div.sk-estimator input.sk-toggleable__control:checked~label.sk-toggleable__label {background-color: #d4ebff;}#sk-container-id-3 div.sk-label input.sk-toggleable__control:checked~label.sk-toggleable__label {background-color: #d4ebff;}#sk-container-id-3 input.sk-hidden--visually {border: 0;clip: rect(1px 1px 1px 1px);clip: rect(1px, 1px, 1px, 1px);height: 1px;margin: -1px;overflow: hidden;padding: 0;position: absolute;width: 1px;}#sk-container-id-3 div.sk-estimator {font-family: monospace;background-color: #f0f8ff;border: 1px dotted black;border-radius: 0.25em;box-sizing: border-box;margin-bottom: 0.5em;}#sk-container-id-3 div.sk-estimator:hover {background-color: #d4ebff;}#sk-container-id-3 div.sk-parallel-item::after {content: \"\";width: 100%;border-bottom: 1px solid gray;flex-grow: 1;}#sk-container-id-3 div.sk-label:hover label.sk-toggleable__label {background-color: #d4ebff;}#sk-container-id-3 div.sk-serial::before {content: \"\";position: absolute;border-left: 1px solid gray;box-sizing: border-box;top: 0;bottom: 0;left: 50%;z-index: 0;}#sk-container-id-3 div.sk-serial {display: flex;flex-direction: column;align-items: center;background-color: white;padding-right: 0.2em;padding-left: 0.2em;position: relative;}#sk-container-id-3 div.sk-item {position: relative;z-index: 1;}#sk-container-id-3 div.sk-parallel {display: flex;align-items: stretch;justify-content: center;background-color: white;position: relative;}#sk-container-id-3 div.sk-item::before, #sk-container-id-3 div.sk-parallel-item::before {content: \"\";position: absolute;border-left: 1px solid gray;box-sizing: border-box;top: 0;bottom: 0;left: 50%;z-index: -1;}#sk-container-id-3 div.sk-parallel-item {display: flex;flex-direction: column;z-index: 1;position: relative;background-color: white;}#sk-container-id-3 div.sk-parallel-item:first-child::after {align-self: flex-end;width: 50%;}#sk-container-id-3 div.sk-parallel-item:last-child::after {align-self: flex-start;width: 50%;}#sk-container-id-3 div.sk-parallel-item:only-child::after {width: 0;}#sk-container-id-3 div.sk-dashed-wrapped {border: 1px dashed gray;margin: 0 0.4em 0.5em 0.4em;box-sizing: border-box;padding-bottom: 0.4em;background-color: white;}#sk-container-id-3 div.sk-label label {font-family: monospace;font-weight: bold;display: inline-block;line-height: 1.2em;}#sk-container-id-3 div.sk-label-container {text-align: center;}#sk-container-id-3 div.sk-container {/* jupyter's `normalize.less` sets `[hidden] { display: none; }` but bootstrap.min.css set `[hidden] { display: none !important; }` so we also need the `!important` here to be able to override the default hidden behavior on the sphinx rendered scikit-learn.org. See: https://github.com/scikit-learn/scikit-learn/issues/21755 */display: inline-block !important;position: relative;}#sk-container-id-3 div.sk-text-repr-fallback {display: none;}</style><div id=\"sk-container-id-3\" class=\"sk-top-container\"><div class=\"sk-text-repr-fallback\"><pre>VotingRegressor(estimators=[(&#x27;lr&#x27;, LinearRegression()),\n",
       "                            (&#x27;dt&#x27;, DecisionTreeRegressor(random_state=1)),\n",
       "                            (&#x27;knn&#x27;, KNeighborsRegressor())])</pre><b>In a Jupyter environment, please rerun this cell to show the HTML representation or trust the notebook. <br />On GitHub, the HTML representation is unable to render, please try loading this page with nbviewer.org.</b></div><div class=\"sk-container\" hidden><div class=\"sk-item sk-dashed-wrapped\"><div class=\"sk-label-container\"><div class=\"sk-label sk-toggleable\"><input class=\"sk-toggleable__control sk-hidden--visually\" id=\"sk-estimator-id-6\" type=\"checkbox\" ><label for=\"sk-estimator-id-6\" class=\"sk-toggleable__label sk-toggleable__label-arrow\">VotingRegressor</label><div class=\"sk-toggleable__content\"><pre>VotingRegressor(estimators=[(&#x27;lr&#x27;, LinearRegression()),\n",
       "                            (&#x27;dt&#x27;, DecisionTreeRegressor(random_state=1)),\n",
       "                            (&#x27;knn&#x27;, KNeighborsRegressor())])</pre></div></div></div><div class=\"sk-parallel\"><div class=\"sk-parallel-item\"><div class=\"sk-item\"><div class=\"sk-label-container\"><div class=\"sk-label sk-toggleable\"><label>lr</label></div></div><div class=\"sk-serial\"><div class=\"sk-item\"><div class=\"sk-estimator sk-toggleable\"><input class=\"sk-toggleable__control sk-hidden--visually\" id=\"sk-estimator-id-7\" type=\"checkbox\" ><label for=\"sk-estimator-id-7\" class=\"sk-toggleable__label sk-toggleable__label-arrow\">LinearRegression</label><div class=\"sk-toggleable__content\"><pre>LinearRegression()</pre></div></div></div></div></div></div><div class=\"sk-parallel-item\"><div class=\"sk-item\"><div class=\"sk-label-container\"><div class=\"sk-label sk-toggleable\"><label>dt</label></div></div><div class=\"sk-serial\"><div class=\"sk-item\"><div class=\"sk-estimator sk-toggleable\"><input class=\"sk-toggleable__control sk-hidden--visually\" id=\"sk-estimator-id-8\" type=\"checkbox\" ><label for=\"sk-estimator-id-8\" class=\"sk-toggleable__label sk-toggleable__label-arrow\">DecisionTreeRegressor</label><div class=\"sk-toggleable__content\"><pre>DecisionTreeRegressor(random_state=1)</pre></div></div></div></div></div></div><div class=\"sk-parallel-item\"><div class=\"sk-item\"><div class=\"sk-label-container\"><div class=\"sk-label sk-toggleable\"><label>knn</label></div></div><div class=\"sk-serial\"><div class=\"sk-item\"><div class=\"sk-estimator sk-toggleable\"><input class=\"sk-toggleable__control sk-hidden--visually\" id=\"sk-estimator-id-9\" type=\"checkbox\" ><label for=\"sk-estimator-id-9\" class=\"sk-toggleable__label sk-toggleable__label-arrow\">KNeighborsRegressor</label><div class=\"sk-toggleable__content\"><pre>KNeighborsRegressor()</pre></div></div></div></div></div></div></div></div></div></div>"
      ],
      "text/plain": [
       "VotingRegressor(estimators=[('lr', LinearRegression()),\n",
       "                            ('dt', DecisionTreeRegressor(random_state=1)),\n",
       "                            ('knn', KNeighborsRegressor())])"
      ]
     },
     "execution_count": 44,
     "metadata": {},
     "output_type": "execute_result"
    }
   ],
   "source": [
    "import pandas as pd\n",
    "from sklearn.model_selection import train_test_split\n",
    "from sklearn.ensemble import VotingRegressor\n",
    "from sklearn.linear_model import LinearRegression\n",
    "from sklearn.neighbors import KNeighborsRegressor\n",
    "from sklearn.tree import DecisionTreeRegressor\n",
    "from sklearn.metrics import r2_score\n",
    "X = sales_df.drop('sales', axis=1)\n",
    "y = sales_df['sales']\n",
    "\n",
    "X_train, X_test, y_train, y_test = train_test_split(X, y, test_size=0.2, random_state=42)\n",
    "\n",
    "lin_reg = LinearRegression()\n",
    "knn_reg = KNeighborsRegressor()\n",
    "tree_reg = DecisionTreeRegressor(random_state=1)\n",
    "voting_reg = VotingRegressor(\n",
    "estimators=[('lr', lin_reg), ('dt', tree_reg), ('knn', knn_reg)])\n",
    "voting_reg.fit(X_train, y_train)"
   ]
  },
  {
   "cell_type": "code",
   "execution_count": 45,
   "id": "0ec70ebf",
   "metadata": {},
   "outputs": [],
   "source": [
    "# Make predictions with the Voting Regressor\n",
    "predictions = voting_reg.predict(X_test)\n"
   ]
  },
  {
   "cell_type": "code",
   "execution_count": 46,
   "id": "887a9bd1",
   "metadata": {},
   "outputs": [],
   "source": [
    "# Create a new DataFrame with 'index' and 'sales prediction'\n",
    "output_df = pd.DataFrame({'index': X_test.index, 'sales_prediction': predictions})"
   ]
  },
  {
   "cell_type": "code",
   "execution_count": 47,
   "id": "dce47f95",
   "metadata": {},
   "outputs": [
    {
     "data": {
      "text/plain": [
       "0.9387821807392606"
      ]
     },
     "execution_count": 47,
     "metadata": {},
     "output_type": "execute_result"
    }
   ],
   "source": [
    "r2_score_value = r2_score(y_test, predictions)\n",
    "r2_score_value"
   ]
  },
  {
   "cell_type": "code",
   "execution_count": 48,
   "id": "bed7e90a",
   "metadata": {},
   "outputs": [
    {
     "name": "stdout",
     "output_type": "stream",
     "text": [
      "Predictions saved to predictions.csv\n"
     ]
    }
   ],
   "source": [
    "# Save the Predictions DataFrame to a CSV File\n",
    "output_file_path = 'predictions.csv'\n",
    "output_df.to_csv(output_file_path, index=False)\n",
    "print(f\"Predictions saved to {output_file_path}\")"
   ]
  },
  {
   "cell_type": "code",
   "execution_count": 49,
   "id": "1d78ca09",
   "metadata": {},
   "outputs": [],
   "source": [
    "import pickle"
   ]
  },
  {
   "cell_type": "code",
   "execution_count": 50,
   "id": "7098dd02",
   "metadata": {},
   "outputs": [],
   "source": [
    "#save the model"
   ]
  },
  {
   "cell_type": "code",
   "execution_count": 51,
   "id": "572a72e6",
   "metadata": {},
   "outputs": [],
   "source": [
    "with open('voting_reg.pkl', 'wb') as file:\n",
    "    pickle.dump('voting_reg_model', file)"
   ]
  },
  {
   "cell_type": "code",
   "execution_count": 53,
   "id": "2def807f",
   "metadata": {},
   "outputs": [],
   "source": [
    "pickle.dump('voting_reg_model', open('voting_reg.pkl', 'wb'))"
   ]
  },
  {
   "cell_type": "code",
   "execution_count": 54,
   "id": "d495313c",
   "metadata": {},
   "outputs": [],
   "source": [
    "# load the model\n",
    "with open('voting_reg.pkl', 'rb') as file:\n",
    "    voting_reg_model = pickle.load(file)"
   ]
  },
  {
   "cell_type": "code",
   "execution_count": 55,
   "id": "89bf19a8",
   "metadata": {},
   "outputs": [],
   "source": [
    "voting_reg_model = pickle.load(open('voting_reg.pkl', 'rb'))"
   ]
  },
  {
   "cell_type": "code",
   "execution_count": 56,
   "id": "248d9a41",
   "metadata": {},
   "outputs": [],
   "source": [
    "# save the data\n",
    "X_train.to_pickle('train_data.pkl')\n",
    "y_train.to_pickle('train_label.pkl')\n",
    "\n",
    "X_test.to_pickle('test_data.pkl')\n",
    "y_test.to_pickle('test_label.pkl')"
   ]
  },
  {
   "cell_type": "code",
   "execution_count": 57,
   "id": "e0cef661",
   "metadata": {},
   "outputs": [
    {
     "data": {
      "text/html": [
       "<div>\n",
       "<style scoped>\n",
       "    .dataframe tbody tr th:only-of-type {\n",
       "        vertical-align: middle;\n",
       "    }\n",
       "\n",
       "    .dataframe tbody tr th {\n",
       "        vertical-align: top;\n",
       "    }\n",
       "\n",
       "    .dataframe thead th {\n",
       "        text-align: right;\n",
       "    }\n",
       "</style>\n",
       "<table border=\"1\" class=\"dataframe\">\n",
       "  <thead>\n",
       "    <tr style=\"text-align: right;\">\n",
       "      <th></th>\n",
       "      <th>store_ID</th>\n",
       "      <th>day_of_week</th>\n",
       "      <th>nb_customers_on_day</th>\n",
       "      <th>open</th>\n",
       "      <th>promotion</th>\n",
       "      <th>state_holiday</th>\n",
       "      <th>school_holiday</th>\n",
       "    </tr>\n",
       "    <tr>\n",
       "      <th>index</th>\n",
       "      <th></th>\n",
       "      <th></th>\n",
       "      <th></th>\n",
       "      <th></th>\n",
       "      <th></th>\n",
       "      <th></th>\n",
       "      <th></th>\n",
       "    </tr>\n",
       "  </thead>\n",
       "  <tbody>\n",
       "    <tr>\n",
       "      <th>346971</th>\n",
       "      <td>275</td>\n",
       "      <td>3</td>\n",
       "      <td>680</td>\n",
       "      <td>1</td>\n",
       "      <td>1</td>\n",
       "      <td>0</td>\n",
       "      <td>0</td>\n",
       "    </tr>\n",
       "    <tr>\n",
       "      <th>351987</th>\n",
       "      <td>729</td>\n",
       "      <td>3</td>\n",
       "      <td>1125</td>\n",
       "      <td>1</td>\n",
       "      <td>0</td>\n",
       "      <td>0</td>\n",
       "      <td>0</td>\n",
       "    </tr>\n",
       "    <tr>\n",
       "      <th>67795</th>\n",
       "      <td>483</td>\n",
       "      <td>2</td>\n",
       "      <td>936</td>\n",
       "      <td>1</td>\n",
       "      <td>1</td>\n",
       "      <td>0</td>\n",
       "      <td>1</td>\n",
       "    </tr>\n",
       "    <tr>\n",
       "      <th>510737</th>\n",
       "      <td>11</td>\n",
       "      <td>2</td>\n",
       "      <td>938</td>\n",
       "      <td>1</td>\n",
       "      <td>1</td>\n",
       "      <td>0</td>\n",
       "      <td>1</td>\n",
       "    </tr>\n",
       "    <tr>\n",
       "      <th>160295</th>\n",
       "      <td>202</td>\n",
       "      <td>4</td>\n",
       "      <td>410</td>\n",
       "      <td>1</td>\n",
       "      <td>0</td>\n",
       "      <td>0</td>\n",
       "      <td>0</td>\n",
       "    </tr>\n",
       "    <tr>\n",
       "      <th>...</th>\n",
       "      <td>...</td>\n",
       "      <td>...</td>\n",
       "      <td>...</td>\n",
       "      <td>...</td>\n",
       "      <td>...</td>\n",
       "      <td>...</td>\n",
       "      <td>...</td>\n",
       "    </tr>\n",
       "    <tr>\n",
       "      <th>362570</th>\n",
       "      <td>388</td>\n",
       "      <td>4</td>\n",
       "      <td>1040</td>\n",
       "      <td>1</td>\n",
       "      <td>0</td>\n",
       "      <td>0</td>\n",
       "      <td>1</td>\n",
       "    </tr>\n",
       "    <tr>\n",
       "      <th>334768</th>\n",
       "      <td>763</td>\n",
       "      <td>1</td>\n",
       "      <td>714</td>\n",
       "      <td>1</td>\n",
       "      <td>1</td>\n",
       "      <td>0</td>\n",
       "      <td>0</td>\n",
       "    </tr>\n",
       "    <tr>\n",
       "      <th>395791</th>\n",
       "      <td>1094</td>\n",
       "      <td>4</td>\n",
       "      <td>0</td>\n",
       "      <td>0</td>\n",
       "      <td>0</td>\n",
       "      <td>1</td>\n",
       "      <td>1</td>\n",
       "    </tr>\n",
       "    <tr>\n",
       "      <th>672969</th>\n",
       "      <td>269</td>\n",
       "      <td>5</td>\n",
       "      <td>0</td>\n",
       "      <td>0</td>\n",
       "      <td>1</td>\n",
       "      <td>3</td>\n",
       "      <td>1</td>\n",
       "    </tr>\n",
       "    <tr>\n",
       "      <th>684465</th>\n",
       "      <td>141</td>\n",
       "      <td>3</td>\n",
       "      <td>539</td>\n",
       "      <td>1</td>\n",
       "      <td>0</td>\n",
       "      <td>0</td>\n",
       "      <td>0</td>\n",
       "    </tr>\n",
       "  </tbody>\n",
       "</table>\n",
       "<p>512672 rows × 7 columns</p>\n",
       "</div>"
      ],
      "text/plain": [
       "        store_ID  day_of_week  nb_customers_on_day  open  promotion  \\\n",
       "index                                                                 \n",
       "346971       275            3                  680     1          1   \n",
       "351987       729            3                 1125     1          0   \n",
       "67795        483            2                  936     1          1   \n",
       "510737        11            2                  938     1          1   \n",
       "160295       202            4                  410     1          0   \n",
       "...          ...          ...                  ...   ...        ...   \n",
       "362570       388            4                 1040     1          0   \n",
       "334768       763            1                  714     1          1   \n",
       "395791      1094            4                    0     0          0   \n",
       "672969       269            5                    0     0          1   \n",
       "684465       141            3                  539     1          0   \n",
       "\n",
       "        state_holiday  school_holiday  \n",
       "index                                  \n",
       "346971              0               0  \n",
       "351987              0               0  \n",
       "67795               0               1  \n",
       "510737              0               1  \n",
       "160295              0               0  \n",
       "...               ...             ...  \n",
       "362570              0               1  \n",
       "334768              0               0  \n",
       "395791              1               1  \n",
       "672969              3               1  \n",
       "684465              0               0  \n",
       "\n",
       "[512672 rows x 7 columns]"
      ]
     },
     "execution_count": 57,
     "metadata": {},
     "output_type": "execute_result"
    }
   ],
   "source": [
    "# load the data\n",
    "X_train = pd.read_pickle('train_data.pkl')\n",
    "X_train"
   ]
  },
  {
   "cell_type": "code",
   "execution_count": 58,
   "id": "ea6d2132",
   "metadata": {},
   "outputs": [
    {
     "data": {
      "text/html": [
       "<div>\n",
       "<style scoped>\n",
       "    .dataframe tbody tr th:only-of-type {\n",
       "        vertical-align: middle;\n",
       "    }\n",
       "\n",
       "    .dataframe tbody tr th {\n",
       "        vertical-align: top;\n",
       "    }\n",
       "\n",
       "    .dataframe thead th {\n",
       "        text-align: right;\n",
       "    }\n",
       "</style>\n",
       "<table border=\"1\" class=\"dataframe\">\n",
       "  <thead>\n",
       "    <tr style=\"text-align: right;\">\n",
       "      <th></th>\n",
       "      <th>store_ID</th>\n",
       "      <th>day_of_week</th>\n",
       "      <th>date</th>\n",
       "      <th>nb_customers_on_day</th>\n",
       "      <th>open</th>\n",
       "      <th>promotion</th>\n",
       "      <th>state_holiday</th>\n",
       "      <th>school_holiday</th>\n",
       "    </tr>\n",
       "    <tr>\n",
       "      <th>index</th>\n",
       "      <th></th>\n",
       "      <th></th>\n",
       "      <th></th>\n",
       "      <th></th>\n",
       "      <th></th>\n",
       "      <th></th>\n",
       "      <th></th>\n",
       "      <th></th>\n",
       "    </tr>\n",
       "  </thead>\n",
       "  <tbody>\n",
       "    <tr>\n",
       "      <th>272371</th>\n",
       "      <td>415</td>\n",
       "      <td>7</td>\n",
       "      <td>01/03/2015</td>\n",
       "      <td>0</td>\n",
       "      <td>0</td>\n",
       "      <td>0</td>\n",
       "      <td>0</td>\n",
       "      <td>0</td>\n",
       "    </tr>\n",
       "    <tr>\n",
       "      <th>558468</th>\n",
       "      <td>27</td>\n",
       "      <td>7</td>\n",
       "      <td>29/12/2013</td>\n",
       "      <td>0</td>\n",
       "      <td>0</td>\n",
       "      <td>0</td>\n",
       "      <td>0</td>\n",
       "      <td>0</td>\n",
       "    </tr>\n",
       "    <tr>\n",
       "      <th>76950</th>\n",
       "      <td>404</td>\n",
       "      <td>3</td>\n",
       "      <td>19/03/2014</td>\n",
       "      <td>657</td>\n",
       "      <td>1</td>\n",
       "      <td>1</td>\n",
       "      <td>0</td>\n",
       "      <td>0</td>\n",
       "    </tr>\n",
       "    <tr>\n",
       "      <th>77556</th>\n",
       "      <td>683</td>\n",
       "      <td>2</td>\n",
       "      <td>29/01/2013</td>\n",
       "      <td>862</td>\n",
       "      <td>1</td>\n",
       "      <td>0</td>\n",
       "      <td>0</td>\n",
       "      <td>0</td>\n",
       "    </tr>\n",
       "    <tr>\n",
       "      <th>456344</th>\n",
       "      <td>920</td>\n",
       "      <td>3</td>\n",
       "      <td>19/03/2014</td>\n",
       "      <td>591</td>\n",
       "      <td>1</td>\n",
       "      <td>1</td>\n",
       "      <td>0</td>\n",
       "      <td>0</td>\n",
       "    </tr>\n",
       "  </tbody>\n",
       "</table>\n",
       "</div>"
      ],
      "text/plain": [
       "        store_ID  day_of_week        date  nb_customers_on_day  open  \\\n",
       "index                                                                  \n",
       "272371       415            7  01/03/2015                    0     0   \n",
       "558468        27            7  29/12/2013                    0     0   \n",
       "76950        404            3  19/03/2014                  657     1   \n",
       "77556        683            2  29/01/2013                  862     1   \n",
       "456344       920            3  19/03/2014                  591     1   \n",
       "\n",
       "        promotion state_holiday  school_holiday  \n",
       "index                                            \n",
       "272371          0             0               0  \n",
       "558468          0             0               0  \n",
       "76950           1             0               0  \n",
       "77556           0             0               0  \n",
       "456344          1             0               0  "
      ]
     },
     "execution_count": 58,
     "metadata": {},
     "output_type": "execute_result"
    }
   ],
   "source": [
    "#load the dataset\n",
    "df = pd.read_csv('validation_for students.csv', index_col=0)\n",
    "df.head()"
   ]
  },
  {
   "cell_type": "code",
   "execution_count": 74,
   "id": "f8ea4466",
   "metadata": {},
   "outputs": [
    {
     "data": {
      "text/plain": [
       "store_ID                int64\n",
       "day_of_week             int64\n",
       "date                   object\n",
       "nb_customers_on_day     int64\n",
       "open                    int64\n",
       "promotion               int64\n",
       "state_holiday          object\n",
       "school_holiday          int64\n",
       "dtype: object"
      ]
     },
     "execution_count": 74,
     "metadata": {},
     "output_type": "execute_result"
    }
   ],
   "source": [
    "#check the data types\n",
    "df.dtypes"
   ]
  },
  {
   "cell_type": "code",
   "execution_count": 59,
   "id": "f137f87c",
   "metadata": {},
   "outputs": [],
   "source": [
    "#convert date column to dateti\n",
    "df['date'] = pd.to_datetime(df['date'], format='%d/%m/%Y', dayfirst=True)"
   ]
  },
  {
   "cell_type": "code",
   "execution_count": 60,
   "id": "cf6f82ef",
   "metadata": {},
   "outputs": [],
   "source": [
    "# convert state_holiday column to numeric\n",
    "state_holiday_mapping = {'0':0,'a':1, 'c':2, 'b':3}\n",
    "df['state_holiday']= df['state_holiday'].map(state_holiday_mapping)"
   ]
  },
  {
   "cell_type": "code",
   "execution_count": 61,
   "id": "3c9d8a1f",
   "metadata": {},
   "outputs": [
    {
     "data": {
      "text/plain": [
       "store_ID                        int64\n",
       "day_of_week                     int64\n",
       "date                   datetime64[ns]\n",
       "nb_customers_on_day             int64\n",
       "open                            int64\n",
       "promotion                       int64\n",
       "state_holiday                   int64\n",
       "school_holiday                  int64\n",
       "dtype: object"
      ]
     },
     "execution_count": 61,
     "metadata": {},
     "output_type": "execute_result"
    }
   ],
   "source": [
    "#check dtype again\n",
    "df.dtypes"
   ]
  },
  {
   "cell_type": "code",
   "execution_count": 62,
   "id": "b7e2a4e6",
   "metadata": {},
   "outputs": [
    {
     "data": {
      "text/plain": [
       "store_ID               0\n",
       "day_of_week            0\n",
       "date                   0\n",
       "nb_customers_on_day    0\n",
       "open                   0\n",
       "promotion              0\n",
       "state_holiday          0\n",
       "school_holiday         0\n",
       "dtype: int64"
      ]
     },
     "execution_count": 62,
     "metadata": {},
     "output_type": "execute_result"
    }
   ],
   "source": [
    "df.isna().sum()"
   ]
  },
  {
   "cell_type": "code",
   "execution_count": 63,
   "id": "969f4e9d",
   "metadata": {},
   "outputs": [],
   "source": [
    "df.drop('date',axis=1, inplace=True)"
   ]
  },
  {
   "cell_type": "code",
   "execution_count": 64,
   "id": "8b0a7ea4",
   "metadata": {},
   "outputs": [
    {
     "data": {
      "text/html": [
       "<div>\n",
       "<style scoped>\n",
       "    .dataframe tbody tr th:only-of-type {\n",
       "        vertical-align: middle;\n",
       "    }\n",
       "\n",
       "    .dataframe tbody tr th {\n",
       "        vertical-align: top;\n",
       "    }\n",
       "\n",
       "    .dataframe thead th {\n",
       "        text-align: right;\n",
       "    }\n",
       "</style>\n",
       "<table border=\"1\" class=\"dataframe\">\n",
       "  <thead>\n",
       "    <tr style=\"text-align: right;\">\n",
       "      <th></th>\n",
       "      <th>store_ID</th>\n",
       "      <th>day_of_week</th>\n",
       "      <th>nb_customers_on_day</th>\n",
       "      <th>open</th>\n",
       "      <th>promotion</th>\n",
       "      <th>state_holiday</th>\n",
       "      <th>school_holiday</th>\n",
       "    </tr>\n",
       "    <tr>\n",
       "      <th>index</th>\n",
       "      <th></th>\n",
       "      <th></th>\n",
       "      <th></th>\n",
       "      <th></th>\n",
       "      <th></th>\n",
       "      <th></th>\n",
       "      <th></th>\n",
       "    </tr>\n",
       "  </thead>\n",
       "  <tbody>\n",
       "    <tr>\n",
       "      <th>272371</th>\n",
       "      <td>415</td>\n",
       "      <td>7</td>\n",
       "      <td>0</td>\n",
       "      <td>0</td>\n",
       "      <td>0</td>\n",
       "      <td>0</td>\n",
       "      <td>0</td>\n",
       "    </tr>\n",
       "    <tr>\n",
       "      <th>558468</th>\n",
       "      <td>27</td>\n",
       "      <td>7</td>\n",
       "      <td>0</td>\n",
       "      <td>0</td>\n",
       "      <td>0</td>\n",
       "      <td>0</td>\n",
       "      <td>0</td>\n",
       "    </tr>\n",
       "    <tr>\n",
       "      <th>76950</th>\n",
       "      <td>404</td>\n",
       "      <td>3</td>\n",
       "      <td>657</td>\n",
       "      <td>1</td>\n",
       "      <td>1</td>\n",
       "      <td>0</td>\n",
       "      <td>0</td>\n",
       "    </tr>\n",
       "    <tr>\n",
       "      <th>77556</th>\n",
       "      <td>683</td>\n",
       "      <td>2</td>\n",
       "      <td>862</td>\n",
       "      <td>1</td>\n",
       "      <td>0</td>\n",
       "      <td>0</td>\n",
       "      <td>0</td>\n",
       "    </tr>\n",
       "    <tr>\n",
       "      <th>456344</th>\n",
       "      <td>920</td>\n",
       "      <td>3</td>\n",
       "      <td>591</td>\n",
       "      <td>1</td>\n",
       "      <td>1</td>\n",
       "      <td>0</td>\n",
       "      <td>0</td>\n",
       "    </tr>\n",
       "  </tbody>\n",
       "</table>\n",
       "</div>"
      ],
      "text/plain": [
       "        store_ID  day_of_week  nb_customers_on_day  open  promotion  \\\n",
       "index                                                                 \n",
       "272371       415            7                    0     0          0   \n",
       "558468        27            7                    0     0          0   \n",
       "76950        404            3                  657     1          1   \n",
       "77556        683            2                  862     1          0   \n",
       "456344       920            3                  591     1          1   \n",
       "\n",
       "        state_holiday  school_holiday  \n",
       "index                                  \n",
       "272371              0               0  \n",
       "558468              0               0  \n",
       "76950               0               0  \n",
       "77556               0               0  \n",
       "456344              0               0  "
      ]
     },
     "execution_count": 64,
     "metadata": {},
     "output_type": "execute_result"
    }
   ],
   "source": [
    "df.head()"
   ]
  },
  {
   "cell_type": "code",
   "execution_count": 73,
   "id": "bfa05ae1",
   "metadata": {},
   "outputs": [],
   "source": [
    "voting_reg_model = pickle.load(open('voting_reg.pkl', 'rb'))"
   ]
  },
  {
   "cell_type": "code",
   "execution_count": 74,
   "id": "1b79b3dd",
   "metadata": {},
   "outputs": [],
   "source": [
    "# Make predictions with the Voting Regressor\n",
    "X_test = df\n",
    "predictions_validation = voting_reg.predict(X_test)\n"
   ]
  },
  {
   "cell_type": "code",
   "execution_count": 75,
   "id": "01b7678f",
   "metadata": {},
   "outputs": [],
   "source": [
    "# Create a new DataFrame with 'index' and 'sales prediction'\n",
    "output_df_validation = pd.DataFrame({'index': X_test.index, 'sales_prediction': predictions})"
   ]
  },
  {
   "cell_type": "code",
   "execution_count": 77,
   "id": "ce47fc8e",
   "metadata": {},
   "outputs": [
    {
     "name": "stdout",
     "output_type": "stream",
     "text": [
      "Predictions saved to predictions_validation.csv\n"
     ]
    }
   ],
   "source": [
    "# Save the Predictions DataFrame to a CSV File\n",
    "output_file_path_validation = 'predictions_validation.csv'\n",
    "output_df_validation.to_csv(output_file_path_validation, index=False)\n",
    "print(f\"Predictions saved to {output_file_path_validation}\")"
   ]
  },
  {
   "cell_type": "code",
   "execution_count": 86,
   "id": "a9121f3b",
   "metadata": {},
   "outputs": [],
   "source": [
    "!pip freeze > requirements.txt"
   ]
  },
  {
   "cell_type": "code",
   "execution_count": null,
   "id": "8757dfe0",
   "metadata": {},
   "outputs": [],
   "source": []
  },
  {
   "cell_type": "code",
   "execution_count": null,
   "id": "b170c80f",
   "metadata": {},
   "outputs": [],
   "source": []
  },
  {
   "cell_type": "code",
   "execution_count": null,
   "id": "c783922d",
   "metadata": {},
   "outputs": [],
   "source": []
  },
  {
   "cell_type": "code",
   "execution_count": null,
   "id": "101616ba",
   "metadata": {},
   "outputs": [],
   "source": []
  }
 ],
 "metadata": {
  "kernelspec": {
   "display_name": "Python 3 (ipykernel)",
   "language": "python",
   "name": "python3"
  },
  "language_info": {
   "codemirror_mode": {
    "name": "ipython",
    "version": 3
   },
   "file_extension": ".py",
   "mimetype": "text/x-python",
   "name": "python",
   "nbconvert_exporter": "python",
   "pygments_lexer": "ipython3",
   "version": "3.11.3"
  }
 },
 "nbformat": 4,
 "nbformat_minor": 5
}
